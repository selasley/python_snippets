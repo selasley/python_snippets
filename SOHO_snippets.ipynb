{
 "cells": [
  {
   "cell_type": "code",
   "execution_count": 1,
   "id": "7dc975f7-4902-4917-afe4-a7a785490f57",
   "metadata": {},
   "outputs": [],
   "source": [
    "import datetime as dt\n",
    "from pathlib import Path\n",
    "from typing import Union, Optional\n",
    "\n",
    "import numpy as np\n",
    "import pandas as pd\n",
    "\n",
    "%matplotlib inline"
   ]
  },
  {
   "cell_type": "markdown",
   "id": "0674e638-39eb-486f-9495-3b21cc9a3e4b",
   "metadata": {},
   "source": [
    "## A few short snippets from the SOHO pipeline"
   ]
  },
  {
   "cell_type": "markdown",
   "id": "4d9b822f-920d-4be5-ab1a-fc26aca60db7",
   "metadata": {},
   "source": [
    "#### We wrote several Fortran programs on VMS systems in the late 1990s and early 2000's to read raw SOHO data files and output text files suitable for printing or viewing on screen.  Since the files are meant for human reading there are descriptive headers and data columns separated by a varying number of spaces.  The headers have different lengths depending on which program created the file, so skiprows in pandas.read_csv would ahve to be adjusted for each file type read.  The line directly above the data begins with Year or YR with or without a leading space and contains column names.  This snippet skips over lines in the file until it encounters a line that starts with YR or Year.  The remainder of the file is read into a DataFrame using column names from the last line read.  The index is set to a DateTimeIndex using data in the first two columns.  The first line in the file contains the name of the program that created it, so the dataframe and first line are returned to the caller."
   ]
  },
  {
   "cell_type": "code",
   "execution_count": 2,
   "id": "16d6593a-2f8c-4241-a508-c38ce4873038",
   "metadata": {},
   "outputs": [
    {
     "name": "stdout",
     "output_type": "stream",
     "text": [
      "                       Vsw   Dens    Vth  ANGLE  V_He   N/S\n",
      "2022-01-01 01:41:54  464.3  2.791  33.23  -3.71   476  4.76\n",
      "2022-01-01 01:57:03  457.8  1.935  34.47  -3.43   471  4.87\n",
      "2022-01-01 02:12:08  475.3  1.867  40.98  -1.34   495  6.19\n",
      "\n",
      "                     HVPS    LVPS    +5    +12    -5   -12\n",
      "2022-10-07 00:01:12  0.00  241.18  5.01  12.07 -5.18 -12.0\n",
      "2022-10-07 01:01:09  1.27  239.22  5.01  12.07 -5.18 -12.0\n",
      "2022-10-07 02:01:06  1.27  241.18  5.01  12.07 -5.18 -12.0\n",
      "\n"
     ]
    },
    {
     "ename": "ValueError",
     "evalue": "data/badfile.dat is not a valid SOHO data file",
     "output_type": "error",
     "traceback": [
      "\u001B[0;31m---------------------------------------------------------------------------\u001B[0m",
      "\u001B[0;31mValueError\u001B[0m                                Traceback (most recent call last)",
      "Cell \u001B[0;32mIn [2], line 33\u001B[0m\n\u001B[1;32m     31\u001B[0m \u001B[38;5;28mprint\u001B[39m()\n\u001B[1;32m     32\u001B[0m \u001B[38;5;66;03m# badfile.dat does not have a line beginning with YR or Year\u001B[39;00m\n\u001B[0;32m---> 33\u001B[0m \u001B[38;5;28mprint\u001B[39m(\u001B[43mread_data_file\u001B[49m\u001B[43m(\u001B[49m\u001B[43mPath\u001B[49m\u001B[43m(\u001B[49m\u001B[38;5;124;43m'\u001B[39;49m\u001B[38;5;124;43mdata/badfile.dat\u001B[39;49m\u001B[38;5;124;43m'\u001B[39;49m\u001B[43m)\u001B[49m\u001B[43m)\u001B[49m[\u001B[38;5;241m0\u001B[39m]\u001B[38;5;241m.\u001B[39miloc[:\u001B[38;5;241m3\u001B[39m, :\u001B[38;5;241m6\u001B[39m])\n",
      "Cell \u001B[0;32mIn [2], line 10\u001B[0m, in \u001B[0;36mread_data_file\u001B[0;34m(filepath, cols)\u001B[0m\n\u001B[1;32m      6\u001B[0m     \u001B[38;5;28;01mwhile\u001B[39;00m (\u001B[38;5;124m'\u001B[39m\u001B[38;5;124mYR\u001B[39m\u001B[38;5;124m'\u001B[39m \u001B[38;5;129;01mnot\u001B[39;00m \u001B[38;5;129;01min\u001B[39;00m (line \u001B[38;5;241m:=\u001B[39m datafile\u001B[38;5;241m.\u001B[39mreadline())[:\u001B[38;5;241m6\u001B[39m]\u001B[38;5;241m.\u001B[39mupper() \u001B[38;5;129;01mand\u001B[39;00m\n\u001B[1;32m      7\u001B[0m            \u001B[38;5;124m'\u001B[39m\u001B[38;5;124mYEAR\u001B[39m\u001B[38;5;124m'\u001B[39m \u001B[38;5;129;01mnot\u001B[39;00m \u001B[38;5;129;01min\u001B[39;00m line[:\u001B[38;5;241m6\u001B[39m]\u001B[38;5;241m.\u001B[39mupper()):\n\u001B[1;32m      8\u001B[0m         \u001B[38;5;28;01mif\u001B[39;00m datafile\u001B[38;5;241m.\u001B[39mtell() \u001B[38;5;241m>\u001B[39m\u001B[38;5;241m=\u001B[39m file_length:\n\u001B[1;32m      9\u001B[0m             \u001B[38;5;66;03m# reached EOF without finding YR or Year\u001B[39;00m\n\u001B[0;32m---> 10\u001B[0m             \u001B[38;5;28;01mraise\u001B[39;00m \u001B[38;5;167;01mValueError\u001B[39;00m(\u001B[38;5;124mf\u001B[39m\u001B[38;5;124m'\u001B[39m\u001B[38;5;132;01m{\u001B[39;00mfilepath\u001B[38;5;132;01m}\u001B[39;00m\u001B[38;5;124m is not a valid SOHO data file\u001B[39m\u001B[38;5;124m'\u001B[39m)\n\u001B[1;32m     11\u001B[0m     data \u001B[38;5;241m=\u001B[39m pd\u001B[38;5;241m.\u001B[39mread_csv(\n\u001B[1;32m     12\u001B[0m         datafile,\n\u001B[1;32m     13\u001B[0m         header\u001B[38;5;241m=\u001B[39m\u001B[38;5;28;01mNone\u001B[39;00m,\n\u001B[0;32m   (...)\u001B[0m\n\u001B[1;32m     16\u001B[0m         usecols \u001B[38;5;241m=\u001B[39m cols,\n\u001B[1;32m     17\u001B[0m         index_col\u001B[38;5;241m=\u001B[39m[\u001B[38;5;241m0\u001B[39m, \u001B[38;5;241m1\u001B[39m])\n\u001B[1;32m     18\u001B[0m \u001B[38;5;66;03m# YR indicates a 2 digit year in the first column, else a 4 digit year\u001B[39;00m\n\u001B[1;32m     19\u001B[0m \u001B[38;5;66;03m# the column after year contains times in the format DOY:HH:MM:SS\u001B[39;00m\n",
      "\u001B[0;31mValueError\u001B[0m: data/badfile.dat is not a valid SOHO data file"
     ]
    }
   ],
   "source": [
    "def read_data_file(filepath: Path, cols: Optional[list] = None) -> tuple[pd.DataFrame, str]:\n",
    "    with open(filepath, 'r') as datafile:\n",
    "        # read and discard lines until we reach a line strting with YR or YEAR\n",
    "        file_length = filepath.stat().st_size\n",
    "        line1 = datafile.readline() # contains Program Name\n",
    "        while ('YR' not in (line := datafile.readline())[:6].upper() and\n",
    "               'YEAR' not in line[:6].upper()):\n",
    "            if datafile.tell() >= file_length:\n",
    "                # reached EOF without finding YR or Year\n",
    "                raise ValueError(f'{filepath} is not a valid SOHO data file')\n",
    "        data = pd.read_csv(\n",
    "            datafile,\n",
    "            header=None,\n",
    "            delim_whitespace=True,\n",
    "            names=line.split(),\n",
    "            usecols = cols,\n",
    "            index_col=[0, 1])\n",
    "    # YR indicates a 2 digit year in the first column, else a 4 digit year\n",
    "    # the column after year contains times in the format DOY:HH:MM:SS\n",
    "    year_fmt = 'y' if 'YR' in line[:6].upper() else 'Y'\n",
    "    data.index = pd.to_datetime([f'{yr}:{jhms}' for yr, jhms in data.index.values],\n",
    "                                format=f'%{year_fmt}:%j:%H:%M:%S')\n",
    "    return data, line1\n",
    "\n",
    "###\n",
    "# pmsw.dat has a 2 digit year and 34 header lines before the column titles line\n",
    "print(read_data_file(Path('data/pmsw.dat'))[0].iloc[:3, :6])\n",
    "print()\n",
    "# hk_stof.dat has a 4 digit year and 15 header lines before the column titles line\n",
    "print(read_data_file(Path('data/hk_stof.dat'))[0].iloc[:3, :6])\n",
    "print()\n",
    "# badfile.dat does not have a line beginning with YR or Year\n",
    "try:\n",
    "    read_data_file(Path('data/badfile.dat'))\n",
    "    print('read_data_file(badfile) should not have succeeded')\n",
    "except ValueError:\n",
    "    print('read_data_file expected failure')\n"
   ]
  },
  {
   "cell_type": "markdown",
   "id": "4ddbaefa-8b74-47c9-ae36-89ad9280e807",
   "metadata": {},
   "source": [
    "#### We sometimes need to join the data from our Fortran programs with other data.  Our data are taken at irregularly spaced times.  This join nearest neighbor routine does a \"fuzzy\" join on the index of our data by selecting rows from the other dataframe within ± **limit** of the index values.  If no suitable rows in the second dataframe are found nans are inserted"
   ]
  },
  {
   "cell_type": "code",
   "execution_count": 4,
   "id": "2a6563a7-2622-469f-825c-b5273a645cdc",
   "metadata": {},
   "outputs": [
    {
     "name": "stdout",
     "output_type": "stream",
     "text": [
      "                       Vsw   Dens    Vth       GSE_X      GSE_Y      GSE_Z       RANGE     HGLAT\n",
      "2022-01-01 01:41:54  464.3  2.791  33.23  193.796909 -17.595837  14.891905  145.871826 -2.979381\n",
      "2022-01-01 01:57:03  457.8  1.935  34.47  193.796873 -17.539243  14.893361  145.871802 -2.979381\n",
      "2022-01-01 02:12:08  475.3  1.867  40.98  193.796853 -17.510943  14.894088  145.871790 -2.979381\n",
      "2022-01-01 02:27:17  475.7  2.112  37.32  193.796812 -17.454336  14.895536  145.871767 -2.979381\n",
      "2022-01-01 02:42:22  499.5  2.012  41.15  193.796789 -17.426030  14.896259  145.871755 -2.979381\n",
      "2022-01-01 02:57:31  497.6  2.081  42.80  193.796742 -17.369410  14.897699  145.871732 -2.979381\n",
      "2022-01-01 03:12:35  484.6  2.027  45.38  193.796718 -17.341097  14.898418  145.871720 -2.979381\n",
      "2022-01-01 03:27:40  483.9  2.148  47.31  193.796665 -17.284464  14.899851  145.871697 -2.979381\n",
      "2022-01-01 10:14:10  525.6  0.809  51.15         NaN        NaN        NaN         NaN       NaN\n",
      "2022-01-01 10:29:15  520.7  0.924  49.65  193.794722 -16.093290  14.928722  145.871244 -3.036676\n",
      "2022-01-01 10:44:24  532.8  0.846  52.46         NaN        NaN        NaN         NaN       NaN\n",
      "2022-01-01 10:59:29  595.6  1.180  56.04  193.794520 -16.008073  14.930696  145.871214 -3.036676\n",
      "2022-01-01 11:14:38  602.6  1.303  54.04         NaN        NaN        NaN         NaN       NaN\n",
      "2022-01-01 19:45:47  535.7  1.844  57.50         NaN        NaN        NaN         NaN       NaN\n",
      "2022-01-01 20:00:54  562.5  1.777  62.39  193.789367 -14.471404  14.964201  145.870719 -3.036676\n",
      "2022-01-01 20:16:00  583.1  2.213  54.27         NaN        NaN        NaN         NaN       NaN\n",
      "2022-01-01 20:31:07  595.6  2.262  50.54  193.788994 -14.385888  14.965950  145.870694 -3.093972\n",
      "2022-01-01 20:46:14  591.7  1.968  49.61         NaN        NaN        NaN         NaN       NaN\n",
      "2022-01-01 21:01:21  576.1  1.805  49.23  193.788612 -14.300359  14.967688  145.870670 -3.093972\n",
      "2022-01-01 21:16:28  588.1  1.829  48.29         NaN        NaN        NaN         NaN       NaN\n",
      "2022-01-01 21:31:34  581.1  1.929  49.46  193.788221 -14.214815  14.969415  145.870646 -3.093972\n",
      "2022-01-01 21:46:41  569.3  1.815  49.79  193.787955 -14.157778  14.970559  145.870630 -3.093972\n",
      "2022-01-01 22:01:46  569.5  1.850  49.49  193.787821 -14.129257  14.971129  145.870622 -3.093972\n",
      "2022-01-01 22:16:53  563.9  1.978  50.10  193.787548 -14.072210  14.972266  145.870606 -3.093972\n",
      "2022-01-01 22:32:00  584.2  1.913  58.49  193.787411 -14.043685  14.972832  145.870598 -3.093972\n",
      "2022-01-01 22:47:36  581.5  2.189  51.67  193.787132 -13.986629  14.973961  145.870582 -3.093972\n",
      "2022-01-01 23:02:43  575.8  2.036  53.48  193.786992 -13.958099  14.974523  145.870575 -3.093972\n",
      "2022-01-01 23:17:50  593.4  1.877  51.41  193.786707 -13.901035  14.975644  145.870559 -3.093972\n",
      "2022-01-01 23:32:57  597.0  1.714  49.94  193.786563 -13.872500  14.976203  145.870552 -3.093972\n",
      "2022-01-02 03:30:10   -2.0 -2.000  -2.00         NaN        NaN        NaN         NaN       NaN\n"
     ]
    }
   ],
   "source": [
    "def joinnn(df1: pd.DataFrame, df2: pd.DataFrame, limit: dt.timedelta) -> pd.DataFrame:\n",
    "    \"\"\"\n",
    "    Join two dataframes sorted by their DateTimeIndexes by the nearest neighbor within\n",
    "    limit of the index values of the left dataframe.  If no suitable rows in the right\n",
    "    dataframe exist insert nans. based on\n",
    "    http://stackoverflow.com/questions/15127048/distribute-data-of-one-time-series-onto-another\n",
    "    \"\"\"\n",
    "    midpts = df2.index.values[:-1] + 0.5 * (\n",
    "        df2.index.values[1:] - df2.index.values[:-1]\n",
    "    )\n",
    "    # create a DataFrame using searchsorted to get a list of indices for df2's midpoints\n",
    "    # in df1's indices\n",
    "    ndx = midpts.searchsorted(df1.index.values, side='left')\n",
    "    df3 = df2.copy().iloc[ndx]\n",
    "    # set the df3 values outside of the time difference limit to NaN\n",
    "    ndx = abs(df3.index.values - df1.index.values) > np.timedelta64(limit.seconds, 's')\n",
    "    df3.iloc[ndx] = np.nan\n",
    "    # set df3's index to df1's index so we can join them\n",
    "    df3.index = df1.index\n",
    "    return df1.join(df3)\n",
    "\n",
    "###\n",
    "# pmsw.dat has data roughly every 15 minutes.  orbitdata has data every 10 minutes\n",
    "with pd.option_context('display.width', 1600):\n",
    "    pmswdf, progname = read_data_file(Path('data/pmsw.dat'))\n",
    "    orbitdf = pd.read_csv('data/orbitdata.csv', index_col=0, parse_dates=[0])\n",
    "    print(joinnn(df1=pmswdf.loc[:, 'Vsw':'Vth'], \n",
    "                 df2=orbitdf.loc[:, 'GSE_X':'HGLAT'], \n",
    "                 limit=dt.timedelta(minutes=3.5))) # small limit is used here to have nans\n"
   ]
  },
  {
   "cell_type": "markdown",
   "id": "7f35964d-35ed-411c-b04b-74a13a26307f",
   "metadata": {},
   "source": [
    "#### Line plots connect all non-nan points.  This can lead to a misleading plot if there are data gaps.  This routine will insert a row of nans between rows in a dataframe with a sorted DatetimeIndex that are more than gaptime apart"
   ]
  },
  {
   "cell_type": "code",
   "execution_count": 5,
   "id": "59644b4c-09ee-4658-9e7d-314fc66dd264",
   "metadata": {},
   "outputs": [
    {
     "name": "stdout",
     "output_type": "stream",
     "text": [
      "                       Vsw   Dens    Vth  ANGLE       GSE_X      GSE_Y      GSE_Z       RANGE     HGLAT\n",
      "2022-01-01 03:27:40  483.9  2.148  47.31  -2.10  193.796665 -17.284464  14.899851  145.871697 -2.979381\n",
      "2022-01-01 03:35:40    NaN    NaN    NaN    NaN         NaN        NaN        NaN         NaN       NaN\n",
      "2022-01-01 10:14:10  525.6  0.809  51.15  -0.45  193.794852 -16.150091  14.927400  145.871264 -3.036676\n",
      "2022-01-01 10:29:15  520.7  0.924  49.65  -0.72  193.794722 -16.093290  14.928722  145.871244 -3.036676\n",
      "2022-01-01 10:44:24  532.8  0.846  52.46  -0.71  193.794656 -16.064886  14.929381  145.871234 -3.036676\n",
      "2022-01-01 10:59:29  595.6  1.180  56.04  -3.62  193.794520 -16.008073  14.930696  145.871214 -3.036676\n",
      "2022-01-01 11:14:38  602.6  1.303  54.04  -4.52  193.794451 -15.979664  14.931351  145.871204 -3.036676\n",
      "2022-01-01 11:22:38    NaN    NaN    NaN    NaN         NaN        NaN        NaN         NaN       NaN\n",
      "2022-01-01 19:45:47  535.7  1.844  57.50  -0.89  193.789489 -14.499906  14.963615  145.870727 -3.036676\n",
      "2022-01-01 20:00:54  562.5  1.777  62.39  -1.77  193.789367 -14.471404  14.964201  145.870719 -3.036676\n"
     ]
    },
    {
     "data": {
      "text/plain": "<Figure size 640x480 with 1 Axes>",
      "image/png": "[encoded data removed]"
     },
     "metadata": {},
     "output_type": "display_data"
    }
   ],
   "source": [
    "def nans_in_timegaps(\n",
    "    df: pd.DataFrame, gaptime: Union[str, int, dt.timedelta, np.timedelta64]\n",
    ") -> pd.DataFrame:\n",
    "    \"\"\"\n",
    "    insert a row of nan's between rows in the dataFrame df that are separated\n",
    "    in time by more than gaptime (a timedelta, timedelta64, or number of seconds).\n",
    "    the dataframe must be sorted on its DatetimeIndex\n",
    "    \"\"\"\n",
    "    if isinstance(gaptime, dt.timedelta):\n",
    "        # convert a normal timedelta to a numpy.timedelta64\n",
    "        gaptime = np.timedelta64(gaptime, 's')\n",
    "    elif not isinstance(gaptime, np.timedelta64):\n",
    "        # assume it's a number of seconds\n",
    "        gaptime = np.timedelta64(int(gaptime), 's')\n",
    "    else:\n",
    "        # make sure timedelta64 is in seconds\n",
    "        gaptime = gaptime.astype('<m8[s]')\n",
    "    # gaps_ndx = df.index[1:].values - df.index[:-1].values > gaptime\n",
    "    # nan_dates = df.iloc[:-1][gaps_ndx].index + gaptime / 2.\n",
    "    # using argwhere is about 2x faster\n",
    "    gaps_ndx = (np.argwhere(df.index[1:].values - df.index[:-1].values > gaptime)\n",
    "                  .flatten()\n",
    "                )\n",
    "    if gaps_ndx.size == 0:\n",
    "        return df\n",
    "    nan_dates = df.index[gaps_ndx] + gaptime / 2.\n",
    "    # concat df with an empty dataframe that has nan_dates as the index\n",
    "    # to generate rows of nans in the gaps\n",
    "    return (pd.concat([df, pd.DataFrame(index=nan_dates)])\n",
    "              .sort_index()\n",
    "            )\n",
    "\n",
    "###\n",
    "pmswdf, progline = read_data_file(Path('data/pmsw.dat'))\n",
    "pmswdf = pmswdf.iloc[:-1]  # skip -2 flag row at the end of the data\n",
    "orbitdf = pd.read_csv('data/orbitdata.csv', index_col=0, parse_dates=[0])\n",
    "df = joinnn(pmswdf.loc[:, :'ANGLE'], \n",
    "            orbitdf.iloc[:, :5], \n",
    "            limit=dt.timedelta(minutes=5)\n",
    "           )\n",
    "df_for_plotting = nans_in_timegaps(df=df, gaptime=60 * 16)\n",
    "with pd.option_context('display.width', 600):\n",
    "    print(df_for_plotting.iloc[7:17])\n",
    "ax = pmswdf['Vsw'].plot(c='pink', lw=5)  # appears to change linearly in gaps\n",
    "df_for_plotting['Vsw'].plot(ax=ax, c='k');  # gaps are evident"
   ]
  },
  {
   "cell_type": "code",
   "execution_count": null,
   "id": "b8395159-494b-4f71-b1a3-77fc17f33dca",
   "metadata": {},
   "outputs": [],
   "source": []
  },
  {
   "cell_type": "code",
   "execution_count": null,
   "id": "fe1d6db9-9b1f-4e88-9143-b5f4700d045b",
   "metadata": {},
   "outputs": [],
   "source": []
  },
  {
   "cell_type": "code",
   "execution_count": null,
   "id": "17dbae20-2fb3-47d0-a1a4-a23c4424880a",
   "metadata": {},
   "outputs": [],
   "source": []
  }
 ],
 "metadata": {
  "kernelspec": {
   "display_name": "Python 3 (ipykernel)",
   "language": "python",
   "name": "python3"
  },
  "language_info": {
   "codemirror_mode": {
    "name": "ipython",
    "version": 3
   },
   "file_extension": ".py",
   "mimetype": "text/x-python",
   "name": "python",
   "nbconvert_exporter": "python",
   "pygments_lexer": "ipython3",
   "version": "3.10.7"
  }
 },
 "nbformat": 4,
 "nbformat_minor": 5
}
